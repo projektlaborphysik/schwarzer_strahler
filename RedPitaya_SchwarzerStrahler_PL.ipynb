{
 "cells": [
  {
   "cell_type": "code",
   "execution_count": 2,
   "id": "3b923d4b",
   "metadata": {},
   "outputs": [],
   "source": [
    "from redpitaya.overlay.mercury import mercury as overlay\n",
    "import matplotlib.pyplot as plt\n",
    "import numpy as np\n",
    "import time\n",
    "import os.path\n",
    "\n",
    "#self.FPGA = overlay() #hier einfach aus der Klasse gezogen, vielleicht reicht es\n",
    "\n",
    "#otherwise \n",
    "#if\n",
    "#'overlay' in dir ()"
   ]
  },
  {
   "cell_type": "code",
   "execution_count": null,
   "id": "6ea4f75e",
   "metadata": {},
   "outputs": [],
   "source": [
    "class SchwarzerStrahler:\n",
    "    \n",
    "    def __init__(self, messanzahl=1000):\n",
    "        print(\"Hello there\")\n",
    "        #self.FPGA = overlay()\n",
    "        #Make an instance of the oscilloscope, the first argument is the channel index \n",
    "        #in range [0,1]. The second argument is the voltage range in volts, \n",
    "        #should be either 1.0 (default if unspecified) or 20.0.\n",
    "        self.osci = self.FPGA.osc(0, 20.0) # 20 oder 1 V\n",
    "        \n",
    "        # data rate decimation \n",
    "        # is an integer in range [1, 2**17] = [1, 131072].\n",
    "        self.osci.decimation = 1\n",
    "\n",
    "        # trigger timing [sample periods]\n",
    "        # Number of samples stored before and after trigger, \n",
    "        #for a forced trigger only post trigger samples are enough.\n",
    "        self.trig = messanzahl\n",
    "        self.osci.trigger_pre  = 0\n",
    "        self.osci.trigger_post = self.trig\n",
    "        \n",
    "        # disable hardware trigger sources\n",
    "        self.osci.trig_src = 0\n",
    "        \n",
    "        print(\"Fertig Initialisiert\")\n",
    "\n",
    "     #### Funzionen\n",
    "\n",
    "    def measure(self):\n",
    "        self.osci.reset()\n",
    "        self.osci.start()\n",
    "        self.osci.trigger()\n",
    "        while (self.osci.status_run()):\n",
    "            pass\n",
    "        return self.osci.data(self.trig)"
   ]
  },
  {
   "cell_type": "code",
   "execution_count": null,
   "id": "4a9c7d83",
   "metadata": {},
   "outputs": [],
   "source": [
    "Experiment = SchwarzerStrahler()"
   ]
  },
  {
   "cell_type": "markdown",
   "id": "f1ad6e04",
   "metadata": {},
   "source": [
    "Im Abstand von 0.5 Sekunden wird jeweils eine Messung ausgelöst. Und an eine Liste gehängt.\n",
    "'Elapsed Time' gibt die Anzahl an vergangege Sekunden an.\n",
    "\n",
    "Eine Vollständige Bewegung des Schrittmotors von Anfang bis Ende dauert ca. 4.3 Minuten = 258 Sekunden."
   ]
  },
  {
   "cell_type": "code",
   "execution_count": 9,
   "id": "77be2796",
   "metadata": {},
   "outputs": [
    {
     "name": "stdout",
     "output_type": "stream",
     "text": [
      "Elapsed Time = 251 sec.\r"
     ]
    }
   ],
   "source": [
    "stepliste = []\n",
    "messwerte = []\n",
    "timelist = []\n",
    "startTime = time.time()\n",
    "\n",
    "with open(\"OsziMessTest11.csv\", \"w\", encoding=\"utf-8\", buffering=1) as fs:      \n",
    "# Datei: erste spalte sind schritte, zweite sind die Messewrte dann Zeilenumbruch.\n",
    "        fs.write(\"Schritt,Messwert,{}\\n\".format(np.mean(Experiment.measure())))    \n",
    "            # Hier messen und jedes mal den Mittelwert ausgeben\n",
    "        for i in range(500): #500 ca. Schritte sind für eine Messung gut. \n",
    "            time.sleep(0.5)\n",
    "            timelist.append(time.time())\n",
    "            stepliste.append(i)\n",
    "            fs.write(\"{},{}\\n\".format(i, np.mean(Experiment.measure())))\n",
    "            print(str(100 * i / 500 ) + \"%\", end=\"\\r\")\n",
    "            messwerte.append(np.mean(Experiment.measure()))\n",
    "            endTime = time.time()\n",
    "            elapsedTime = endTime - startTime\n",
    "            print(\"Elapsed Time = %i sec.\" % elapsedTime,end = \"\\r\")\n"
   ]
  },
  {
   "cell_type": "code",
   "execution_count": null,
   "id": "3072394c",
   "metadata": {},
   "outputs": [],
   "source": [
    "plt.plot(stepliste,messwerte)\n",
    "plt.show()"
   ]
  }
 ],
 "metadata": {
  "kernelspec": {
   "display_name": "Python 3 (ipykernel)",
   "language": "python",
   "name": "python3"
  },
  "language_info": {
   "codemirror_mode": {
    "name": "ipython",
    "version": 3
   },
   "file_extension": ".py",
   "mimetype": "text/x-python",
   "name": "python",
   "nbconvert_exporter": "python",
   "pygments_lexer": "ipython3",
   "version": "3.10.8"
  }
 },
 "nbformat": 4,
 "nbformat_minor": 5
}
